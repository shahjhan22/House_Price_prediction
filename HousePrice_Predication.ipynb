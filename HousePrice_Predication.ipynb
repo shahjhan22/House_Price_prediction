{
 "cells": [
  {
   "cell_type": "code",
   "execution_count": 1,
   "id": "eec0066c-b239-485f-9855-82fc4baca9b9",
   "metadata": {},
   "outputs": [],
   "source": [
    "import pandas as pd\n",
    "import numpy as np\n",
    "import torch"
   ]
  },
  {
   "cell_type": "code",
   "execution_count": 2,
   "id": "571ed1ae-855f-4601-8529-71908740d4f3",
   "metadata": {},
   "outputs": [
    {
     "name": "stdout",
     "output_type": "stream",
     "text": [
      "1460\n"
     ]
    }
   ],
   "source": [
    "df=pd.read_csv(\"houseprice.csv\")\n",
    "pd.set_option('display.max_columns',None)\n",
    "df.head(2)\n",
    "print(df.shape[0])"
   ]
  },
  {
   "cell_type": "code",
   "execution_count": 3,
   "id": "9e714ac8-3364-429b-86e6-6c37679fa21e",
   "metadata": {},
   "outputs": [
    {
     "name": "stdout",
     "output_type": "stream",
     "text": [
      "1201\n"
     ]
    }
   ],
   "source": [
    "\n",
    "df=pd.read_csv(\"houseprice.csv\",usecols=['MSSubClass','MSZoning','LotFrontage','LotArea','LotConfig','OverallQual','OverallCond','YearBuilt','SalePrice','1stFlrSF','2ndFlrSF','LotShape']).dropna()\n",
    "print(df.shape[0])"
   ]
  },
  {
   "cell_type": "code",
   "execution_count": 4,
   "id": "6fadcc0b-f9d5-4dd3-a8ae-3bb34192a26b",
   "metadata": {},
   "outputs": [
    {
     "name": "stdout",
     "output_type": "stream",
     "text": [
      "<class 'pandas.core.frame.DataFrame'>\n",
      "Index: 1201 entries, 0 to 1459\n",
      "Data columns (total 12 columns):\n",
      " #   Column       Non-Null Count  Dtype  \n",
      "---  ------       --------------  -----  \n",
      " 0   MSSubClass   1201 non-null   int64  \n",
      " 1   MSZoning     1201 non-null   object \n",
      " 2   LotFrontage  1201 non-null   float64\n",
      " 3   LotArea      1201 non-null   int64  \n",
      " 4   LotShape     1201 non-null   object \n",
      " 5   LotConfig    1201 non-null   object \n",
      " 6   OverallQual  1201 non-null   int64  \n",
      " 7   OverallCond  1201 non-null   int64  \n",
      " 8   YearBuilt    1201 non-null   int64  \n",
      " 9   1stFlrSF     1201 non-null   int64  \n",
      " 10  2ndFlrSF     1201 non-null   int64  \n",
      " 11  SalePrice    1201 non-null   int64  \n",
      "dtypes: float64(1), int64(8), object(3)\n",
      "memory usage: 122.0+ KB\n"
     ]
    }
   ],
   "source": [
    "df.info()"
   ]
  },
  {
   "cell_type": "code",
   "execution_count": 5,
   "id": "a4904fdb-20e9-42ff-9d35-d7f3e95ac788",
   "metadata": {},
   "outputs": [
    {
     "name": "stdout",
     "output_type": "stream",
     "text": [
      "Column name MSSubClass and unique value 15\n",
      "Column name MSZoning and unique value 5\n",
      "Column name LotFrontage and unique value 110\n",
      "Column name LotArea and unique value 869\n",
      "Column name LotShape and unique value 4\n",
      "Column name LotConfig and unique value 5\n",
      "Column name OverallQual and unique value 10\n",
      "Column name OverallCond and unique value 8\n",
      "Column name YearBuilt and unique value 112\n",
      "Column name 1stFlrSF and unique value 678\n",
      "Column name 2ndFlrSF and unique value 368\n",
      "Column name SalePrice and unique value 597\n"
     ]
    }
   ],
   "source": [
    "for i in df.columns:\n",
    "    print(\"Column name {} and unique value {}\".format(i,len(df[i].unique())))"
   ]
  },
  {
   "cell_type": "markdown",
   "id": "a5c04fe6-ef42-4643-993a-24ee149386d5",
   "metadata": {},
   "source": [
    "##### Converting categorical value to numerical using embadding , column are:MSSubClass,MSZoning,LotShape ,LotConfig,OverallQual,OverallCond"
   ]
  },
  {
   "cell_type": "code",
   "execution_count": 6,
   "id": "35e828b9-6bde-4ebb-baa9-34ed17fef76c",
   "metadata": {},
   "outputs": [],
   "source": [
    "import datetime\n",
    "df['Total_years']=datetime.datetime.now().year-df['YearBuilt']   # derive column"
   ]
  },
  {
   "cell_type": "code",
   "execution_count": 7,
   "id": "6cdf468f-199f-404b-b4e9-029c676c9b7c",
   "metadata": {},
   "outputs": [],
   "source": [
    "df.drop(columns=['YearBuilt'],inplace=True)"
   ]
  },
  {
   "cell_type": "code",
   "execution_count": 8,
   "id": "164f9786-6092-42ea-b294-ae22f4795e0b",
   "metadata": {},
   "outputs": [
    {
     "data": {
      "text/html": [
       "<div>\n",
       "<style scoped>\n",
       "    .dataframe tbody tr th:only-of-type {\n",
       "        vertical-align: middle;\n",
       "    }\n",
       "\n",
       "    .dataframe tbody tr th {\n",
       "        vertical-align: top;\n",
       "    }\n",
       "\n",
       "    .dataframe thead th {\n",
       "        text-align: right;\n",
       "    }\n",
       "</style>\n",
       "<table border=\"1\" class=\"dataframe\">\n",
       "  <thead>\n",
       "    <tr style=\"text-align: right;\">\n",
       "      <th></th>\n",
       "      <th>MSSubClass</th>\n",
       "      <th>MSZoning</th>\n",
       "      <th>LotFrontage</th>\n",
       "      <th>LotArea</th>\n",
       "      <th>LotShape</th>\n",
       "      <th>LotConfig</th>\n",
       "      <th>OverallQual</th>\n",
       "      <th>OverallCond</th>\n",
       "      <th>1stFlrSF</th>\n",
       "      <th>2ndFlrSF</th>\n",
       "      <th>SalePrice</th>\n",
       "      <th>Total_years</th>\n",
       "    </tr>\n",
       "  </thead>\n",
       "  <tbody>\n",
       "    <tr>\n",
       "      <th>0</th>\n",
       "      <td>60</td>\n",
       "      <td>RL</td>\n",
       "      <td>65.0</td>\n",
       "      <td>8450</td>\n",
       "      <td>Reg</td>\n",
       "      <td>Inside</td>\n",
       "      <td>7</td>\n",
       "      <td>5</td>\n",
       "      <td>856</td>\n",
       "      <td>854</td>\n",
       "      <td>208500</td>\n",
       "      <td>22</td>\n",
       "    </tr>\n",
       "    <tr>\n",
       "      <th>1</th>\n",
       "      <td>20</td>\n",
       "      <td>RL</td>\n",
       "      <td>80.0</td>\n",
       "      <td>9600</td>\n",
       "      <td>Reg</td>\n",
       "      <td>FR2</td>\n",
       "      <td>6</td>\n",
       "      <td>8</td>\n",
       "      <td>1262</td>\n",
       "      <td>0</td>\n",
       "      <td>181500</td>\n",
       "      <td>49</td>\n",
       "    </tr>\n",
       "    <tr>\n",
       "      <th>2</th>\n",
       "      <td>60</td>\n",
       "      <td>RL</td>\n",
       "      <td>68.0</td>\n",
       "      <td>11250</td>\n",
       "      <td>IR1</td>\n",
       "      <td>Inside</td>\n",
       "      <td>7</td>\n",
       "      <td>5</td>\n",
       "      <td>920</td>\n",
       "      <td>866</td>\n",
       "      <td>223500</td>\n",
       "      <td>24</td>\n",
       "    </tr>\n",
       "    <tr>\n",
       "      <th>3</th>\n",
       "      <td>70</td>\n",
       "      <td>RL</td>\n",
       "      <td>60.0</td>\n",
       "      <td>9550</td>\n",
       "      <td>IR1</td>\n",
       "      <td>Corner</td>\n",
       "      <td>7</td>\n",
       "      <td>5</td>\n",
       "      <td>961</td>\n",
       "      <td>756</td>\n",
       "      <td>140000</td>\n",
       "      <td>110</td>\n",
       "    </tr>\n",
       "    <tr>\n",
       "      <th>4</th>\n",
       "      <td>60</td>\n",
       "      <td>RL</td>\n",
       "      <td>84.0</td>\n",
       "      <td>14260</td>\n",
       "      <td>IR1</td>\n",
       "      <td>FR2</td>\n",
       "      <td>8</td>\n",
       "      <td>5</td>\n",
       "      <td>1145</td>\n",
       "      <td>1053</td>\n",
       "      <td>250000</td>\n",
       "      <td>25</td>\n",
       "    </tr>\n",
       "    <tr>\n",
       "      <th>5</th>\n",
       "      <td>50</td>\n",
       "      <td>RL</td>\n",
       "      <td>85.0</td>\n",
       "      <td>14115</td>\n",
       "      <td>IR1</td>\n",
       "      <td>Inside</td>\n",
       "      <td>5</td>\n",
       "      <td>5</td>\n",
       "      <td>796</td>\n",
       "      <td>566</td>\n",
       "      <td>143000</td>\n",
       "      <td>32</td>\n",
       "    </tr>\n",
       "    <tr>\n",
       "      <th>6</th>\n",
       "      <td>20</td>\n",
       "      <td>RL</td>\n",
       "      <td>75.0</td>\n",
       "      <td>10084</td>\n",
       "      <td>Reg</td>\n",
       "      <td>Inside</td>\n",
       "      <td>8</td>\n",
       "      <td>5</td>\n",
       "      <td>1694</td>\n",
       "      <td>0</td>\n",
       "      <td>307000</td>\n",
       "      <td>21</td>\n",
       "    </tr>\n",
       "  </tbody>\n",
       "</table>\n",
       "</div>"
      ],
      "text/plain": [
       "   MSSubClass MSZoning  LotFrontage  LotArea LotShape LotConfig  OverallQual  \\\n",
       "0          60       RL         65.0     8450      Reg    Inside            7   \n",
       "1          20       RL         80.0     9600      Reg       FR2            6   \n",
       "2          60       RL         68.0    11250      IR1    Inside            7   \n",
       "3          70       RL         60.0     9550      IR1    Corner            7   \n",
       "4          60       RL         84.0    14260      IR1       FR2            8   \n",
       "5          50       RL         85.0    14115      IR1    Inside            5   \n",
       "6          20       RL         75.0    10084      Reg    Inside            8   \n",
       "\n",
       "   OverallCond  1stFlrSF  2ndFlrSF  SalePrice  Total_years  \n",
       "0            5       856       854     208500           22  \n",
       "1            8      1262         0     181500           49  \n",
       "2            5       920       866     223500           24  \n",
       "3            5       961       756     140000          110  \n",
       "4            5      1145      1053     250000           25  \n",
       "5            5       796       566     143000           32  \n",
       "6            5      1694         0     307000           21  "
      ]
     },
     "execution_count": 8,
     "metadata": {},
     "output_type": "execute_result"
    }
   ],
   "source": [
    "df.head(7)"
   ]
  },
  {
   "cell_type": "code",
   "execution_count": 45,
   "id": "0eba5ecd-0221-4cbb-8558-e07b32b0109e",
   "metadata": {},
   "outputs": [
    {
     "data": {
      "text/html": [
       "<div>\n",
       "<style scoped>\n",
       "    .dataframe tbody tr th:only-of-type {\n",
       "        vertical-align: middle;\n",
       "    }\n",
       "\n",
       "    .dataframe tbody tr th {\n",
       "        vertical-align: top;\n",
       "    }\n",
       "\n",
       "    .dataframe thead th {\n",
       "        text-align: right;\n",
       "    }\n",
       "</style>\n",
       "<table border=\"1\" class=\"dataframe\">\n",
       "  <thead>\n",
       "    <tr style=\"text-align: right;\">\n",
       "      <th></th>\n",
       "      <th>MSSubClass</th>\n",
       "      <th>MSZoning</th>\n",
       "      <th>LotFrontage</th>\n",
       "      <th>LotArea</th>\n",
       "      <th>LotShape</th>\n",
       "      <th>LotConfig</th>\n",
       "      <th>OverallQual</th>\n",
       "      <th>OverallCond</th>\n",
       "      <th>1stFlrSF</th>\n",
       "      <th>2ndFlrSF</th>\n",
       "      <th>SalePrice</th>\n",
       "      <th>Total_years</th>\n",
       "    </tr>\n",
       "  </thead>\n",
       "  <tbody>\n",
       "    <tr>\n",
       "      <th>0</th>\n",
       "      <td>5</td>\n",
       "      <td>3</td>\n",
       "      <td>65.0</td>\n",
       "      <td>8450</td>\n",
       "      <td>3</td>\n",
       "      <td>4</td>\n",
       "      <td>6</td>\n",
       "      <td>3</td>\n",
       "      <td>856</td>\n",
       "      <td>854</td>\n",
       "      <td>208500</td>\n",
       "      <td>22</td>\n",
       "    </tr>\n",
       "    <tr>\n",
       "      <th>1</th>\n",
       "      <td>0</td>\n",
       "      <td>3</td>\n",
       "      <td>80.0</td>\n",
       "      <td>9600</td>\n",
       "      <td>3</td>\n",
       "      <td>2</td>\n",
       "      <td>5</td>\n",
       "      <td>6</td>\n",
       "      <td>1262</td>\n",
       "      <td>0</td>\n",
       "      <td>181500</td>\n",
       "      <td>49</td>\n",
       "    </tr>\n",
       "    <tr>\n",
       "      <th>2</th>\n",
       "      <td>5</td>\n",
       "      <td>3</td>\n",
       "      <td>68.0</td>\n",
       "      <td>11250</td>\n",
       "      <td>0</td>\n",
       "      <td>4</td>\n",
       "      <td>6</td>\n",
       "      <td>3</td>\n",
       "      <td>920</td>\n",
       "      <td>866</td>\n",
       "      <td>223500</td>\n",
       "      <td>24</td>\n",
       "    </tr>\n",
       "    <tr>\n",
       "      <th>3</th>\n",
       "      <td>6</td>\n",
       "      <td>3</td>\n",
       "      <td>60.0</td>\n",
       "      <td>9550</td>\n",
       "      <td>0</td>\n",
       "      <td>0</td>\n",
       "      <td>6</td>\n",
       "      <td>3</td>\n",
       "      <td>961</td>\n",
       "      <td>756</td>\n",
       "      <td>140000</td>\n",
       "      <td>110</td>\n",
       "    </tr>\n",
       "    <tr>\n",
       "      <th>4</th>\n",
       "      <td>5</td>\n",
       "      <td>3</td>\n",
       "      <td>84.0</td>\n",
       "      <td>14260</td>\n",
       "      <td>0</td>\n",
       "      <td>2</td>\n",
       "      <td>7</td>\n",
       "      <td>3</td>\n",
       "      <td>1145</td>\n",
       "      <td>1053</td>\n",
       "      <td>250000</td>\n",
       "      <td>25</td>\n",
       "    </tr>\n",
       "    <tr>\n",
       "      <th>5</th>\n",
       "      <td>4</td>\n",
       "      <td>3</td>\n",
       "      <td>85.0</td>\n",
       "      <td>14115</td>\n",
       "      <td>0</td>\n",
       "      <td>4</td>\n",
       "      <td>4</td>\n",
       "      <td>3</td>\n",
       "      <td>796</td>\n",
       "      <td>566</td>\n",
       "      <td>143000</td>\n",
       "      <td>32</td>\n",
       "    </tr>\n",
       "    <tr>\n",
       "      <th>6</th>\n",
       "      <td>0</td>\n",
       "      <td>3</td>\n",
       "      <td>75.0</td>\n",
       "      <td>10084</td>\n",
       "      <td>3</td>\n",
       "      <td>4</td>\n",
       "      <td>7</td>\n",
       "      <td>3</td>\n",
       "      <td>1694</td>\n",
       "      <td>0</td>\n",
       "      <td>307000</td>\n",
       "      <td>21</td>\n",
       "    </tr>\n",
       "  </tbody>\n",
       "</table>\n",
       "</div>"
      ],
      "text/plain": [
       "   MSSubClass  MSZoning  LotFrontage  LotArea  LotShape  LotConfig  \\\n",
       "0           5         3         65.0     8450         3          4   \n",
       "1           0         3         80.0     9600         3          2   \n",
       "2           5         3         68.0    11250         0          4   \n",
       "3           6         3         60.0     9550         0          0   \n",
       "4           5         3         84.0    14260         0          2   \n",
       "5           4         3         85.0    14115         0          4   \n",
       "6           0         3         75.0    10084         3          4   \n",
       "\n",
       "   OverallQual  OverallCond  1stFlrSF  2ndFlrSF  SalePrice  Total_years  \n",
       "0            6            3       856       854     208500           22  \n",
       "1            5            6      1262         0     181500           49  \n",
       "2            6            3       920       866     223500           24  \n",
       "3            6            3       961       756     140000          110  \n",
       "4            7            3      1145      1053     250000           25  \n",
       "5            4            3       796       566     143000           32  \n",
       "6            7            3      1694         0     307000           21  "
      ]
     },
     "execution_count": 45,
     "metadata": {},
     "output_type": "execute_result"
    }
   ],
   "source": [
    "#Label Encoding\n",
    "from sklearn.preprocessing import LabelEncoder\n",
    "cat_feature=['MSSubClass','MSZoning','LotShape','LotConfig','OverallQual','OverallCond']\n",
    "lbl_encoder={}\n",
    "for col in cat_feature:\n",
    "    lbl_encoder[col]=LabelEncoder()\n",
    "    df[col]=lbl_encoder[col].fit_transform(df[col])\n",
    "df.head(7)\n"
   ]
  },
  {
   "cell_type": "code",
   "execution_count": 10,
   "id": "275894b7-5d8c-47f9-ad80-799607565610",
   "metadata": {},
   "outputs": [
    {
     "data": {
      "text/plain": [
       "array([[5, 3, 3, 4, 6, 3],\n",
       "       [0, 3, 3, 2, 5, 6],\n",
       "       [5, 3, 0, 4, 6, 3],\n",
       "       ...,\n",
       "       [6, 3, 3, 4, 6, 7],\n",
       "       [0, 3, 3, 4, 4, 4],\n",
       "       [0, 3, 3, 4, 4, 4]], dtype=int64)"
      ]
     },
     "execution_count": 10,
     "metadata": {},
     "output_type": "execute_result"
    }
   ],
   "source": [
    "cat_feature=np.stack([df['MSSubClass'],df['MSZoning'],df['LotShape'],df['LotConfig'],df['OverallQual'],df['OverallCond']],1)\n",
    "cat_feature"
   ]
  },
  {
   "cell_type": "code",
   "execution_count": 11,
   "id": "7b96e752-1920-4793-80c9-0f96b4c989b2",
   "metadata": {},
   "outputs": [],
   "source": [
    "cat_feature=torch.tensor(cat_feature,dtype=torch.int64)"
   ]
  },
  {
   "cell_type": "code",
   "execution_count": 12,
   "id": "c1bb0784-fcb3-4ab5-b4d8-51f944d8675c",
   "metadata": {},
   "outputs": [
    {
     "data": {
      "text/plain": [
       "['LotFrontage', 'LotArea', '1stFlrSF', '2ndFlrSF', 'Total_years']"
      ]
     },
     "execution_count": 12,
     "metadata": {},
     "output_type": "execute_result"
    }
   ],
   "source": [
    "#  for continuous variable\n",
    "continuous_feature=[]\n",
    "for col in df.columns:\n",
    "    if col not in ['MSSubClass','MSZoning','LotShape','LotConfig','OverallQual','OverallCond','SalePrice']:\n",
    "        continuous_feature.append(col)\n",
    "continuous_feature\n",
    "             "
   ]
  },
  {
   "cell_type": "code",
   "execution_count": 46,
   "id": "5ef10c76-b81b-49be-859d-aea49529bdbc",
   "metadata": {},
   "outputs": [
    {
     "data": {
      "text/plain": [
       "tensor([[   65.,  8450.,   856.,   854.,    22.],\n",
       "        [   80.,  9600.,  1262.,     0.,    49.],\n",
       "        [   68., 11250.,   920.,   866.,    24.],\n",
       "        ...,\n",
       "        [   66.,  9042.,  1188.,  1152.,    84.],\n",
       "        [   68.,  9717.,  1078.,     0.,    75.],\n",
       "        [   75.,  9937.,  1256.,     0.,    60.]])"
      ]
     },
     "execution_count": 46,
     "metadata": {},
     "output_type": "execute_result"
    }
   ],
   "source": [
    "#Stacking and converting into tensor\n",
    "continous_val=np.stack([df[i].values for i in continuous_feature],axis=1)\n",
    "continous_val=torch.tensor(continous_val,dtype=torch.float32)\n",
    "continous_val"
   ]
  },
  {
   "cell_type": "code",
   "execution_count": 14,
   "id": "13d32e2f-db6e-4ed9-ab17-83bc2e4ebe68",
   "metadata": {},
   "outputs": [
    {
     "data": {
      "text/plain": [
       "tensor([208500., 181500., 223500.,  ..., 266500., 142125., 147500.])"
      ]
     },
     "execution_count": 14,
     "metadata": {},
     "output_type": "execute_result"
    }
   ],
   "source": [
    "y=torch.tensor(df['SalePrice'],dtype=torch.float)\n",
    "y"
   ]
  },
  {
   "cell_type": "code",
   "execution_count": 15,
   "id": "27415506-ea4e-4f60-9a8c-b184438507f0",
   "metadata": {},
   "outputs": [
    {
     "data": {
      "text/plain": [
       "(torch.Size([1201, 6]), torch.Size([1201, 5]), torch.Size([1201]), (1201, 12))"
      ]
     },
     "execution_count": 15,
     "metadata": {},
     "output_type": "execute_result"
    }
   ],
   "source": [
    "cat_feature.shape,continous_val.shape,y.shape,df.shape"
   ]
  },
  {
   "cell_type": "markdown",
   "id": "ed698b04-6ebd-4318-8ad0-ed69c2baeab4",
   "metadata": {},
   "source": [
    "### Embedding  for categorical columns\n",
    "\n",
    "Embeddings are a powerful alternative to Label Encoding and One-Hot Encoding, especially when dealing with large categorical variables in deep learning models.\n",
    "\n",
    "### Label encoding problem\n",
    " Problem: The model may assume order (e.g., New York < Los Angeles), which is incorrect.\n",
    "### problem with hot encoding\n",
    "Problem:\n",
    "✔ High-dimensional when dealing with thousands of categories.\n",
    "✔ Sparse representation (mostly 0s), leading to memory inefficiency.\n",
    "✔ No relationship captured between categories (New York and Los Angeles might be similar but appear as different as New York and Houston).\n"
   ]
  },
  {
   "cell_type": "code",
   "execution_count": 16,
   "id": "493cc4f5-7af9-4196-8aa0-43ec34bb70c1",
   "metadata": {},
   "outputs": [
    {
     "data": {
      "text/plain": [
       "[15, 5, 4, 5, 10, 8]"
      ]
     },
     "execution_count": 16,
     "metadata": {},
     "output_type": "execute_result"
    }
   ],
   "source": [
    "\n",
    "cat_dims=[len(df[col].unique()) for col in ['MSSubClass','MSZoning','LotShape','LotConfig','OverallQual','OverallCond']]\n",
    "cat_dims"
   ]
  },
  {
   "cell_type": "markdown",
   "id": "d113ac65-1d63-4ee9-96d5-7a729218d078",
   "metadata": {},
   "source": [
    "#### Thumb rules provide a quick and practical way to determine embedding dimensions without exhaustive hyperparameter tuning.\n",
    "\n",
    "Embedding Dimension=min(50, root(Number of Unique Categories)\n",
    "​\n",
    "🔹 Explanation:\n",
    "\n",
    "Square root rule (√n): Helps avoid overly large embeddings while still capturing useful patterns.\n",
    "Upper limit (50): Prevents unnecessarily large embeddings that may lead to overfitting.\n",
    "note:Overfitting Risk – If embeddings are too large, they can memorize data instead of generalizing patterns."
   ]
  },
  {
   "cell_type": "code",
   "execution_count": 17,
   "id": "6fb4b39a-571f-4a3e-a84e-d505b9bfee12",
   "metadata": {},
   "outputs": [
    {
     "data": {
      "text/plain": [
       "[(15, 8), (5, 3), (4, 2), (5, 3), (10, 5), (8, 4)]"
      ]
     },
     "execution_count": 17,
     "metadata": {},
     "output_type": "execute_result"
    }
   ],
   "source": [
    "# thumb rule output dimesion should be setbased on the input dimesion (min(50,feature_dim//2))\n",
    "embedding_dim=[(x,min(50,((x+1)//2))) for x in cat_dims]\n",
    "embedding_dim"
   ]
  },
  {
   "cell_type": "markdown",
   "id": "a47e70a5-7585-4992-9612-a5d8198763e6",
   "metadata": {},
   "source": [
    "#### ModuleList\n",
    "nn.ModuleList is a container for storing a list of nn.Module layers (like nn.Linear, nn.Conv2d, nn.Embedding, etc.). It registers each module as part of the model, ensuring that PyTorch tracks them properly for training, saving, and moving to devices (CPU/GPU).\n",
    "\n",
    "✅ nn.ModuleList helps register layers in a model.\n",
    "✅ It allows .to(device), .parameters(), and state_dict() to work properly.\n",
    "✅ Useful for handling multiple embeddings, MLP layers, or recurrent layers dynamically.\n",
    "\n",
    "intead of python Module 'nn.module'"
   ]
  },
  {
   "cell_type": "code",
   "execution_count": 18,
   "id": "7fb4d826-ac24-4dd2-9a0f-d23ed4475a86",
   "metadata": {},
   "outputs": [
    {
     "data": {
      "text/plain": [
       "ModuleList(\n",
       "  (0): Embedding(15, 8)\n",
       "  (1): Embedding(5, 3)\n",
       "  (2): Embedding(4, 2)\n",
       "  (3): Embedding(5, 3)\n",
       "  (4): Embedding(10, 5)\n",
       "  (5): Embedding(8, 4)\n",
       ")"
      ]
     },
     "execution_count": 18,
     "metadata": {},
     "output_type": "execute_result"
    }
   ],
   "source": [
    "import torch \n",
    "import torch.nn as nn  # for Layer \n",
    "import torch.nn.functional as f  # for activation \n",
    "# Embedding  Layer\n",
    "embed_representation=nn.ModuleList([nn.Embedding(inp,out) for inp,out in embedding_dim])\n",
    "embed_representation\n"
   ]
  },
  {
   "cell_type": "code",
   "execution_count": 19,
   "id": "ed239af1-70f6-49e2-840d-1723f05f05d0",
   "metadata": {},
   "outputs": [
    {
     "data": {
      "text/plain": [
       "tensor([[5, 3, 3, 4, 6, 3],\n",
       "        [0, 3, 3, 2, 5, 6],\n",
       "        [5, 3, 0, 4, 6, 3],\n",
       "        ...,\n",
       "        [6, 3, 3, 4, 6, 7],\n",
       "        [0, 3, 3, 4, 4, 4],\n",
       "        [0, 3, 3, 4, 4, 4]])"
      ]
     },
     "execution_count": 19,
     "metadata": {},
     "output_type": "execute_result"
    }
   ],
   "source": [
    "cat_feature"
   ]
  },
  {
   "cell_type": "code",
   "execution_count": 20,
   "id": "17a83e72-e2d7-4dff-9962-6dcc13bd79a9",
   "metadata": {},
   "outputs": [
    {
     "data": {
      "text/plain": [
       "tensor([[5, 3, 3, 4, 6, 3],\n",
       "        [0, 3, 3, 2, 5, 6],\n",
       "        [5, 3, 0, 4, 6, 3],\n",
       "        [6, 3, 0, 0, 6, 3]])"
      ]
     },
     "execution_count": 20,
     "metadata": {},
     "output_type": "execute_result"
    }
   ],
   "source": [
    "# for demo how to to work embeading \n",
    "#for  4 row\n",
    "cat_featz=cat_feature[:4]\n",
    "cat_featz"
   ]
  },
  {
   "cell_type": "code",
   "execution_count": 21,
   "id": "55758c45-5c5d-4645-9185-988fbad6bc17",
   "metadata": {},
   "outputs": [
    {
     "data": {
      "text/plain": [
       "[tensor([[ 0.4885, -0.4020,  1.4327,  ..., -0.2818, -0.6909, -0.8620],\n",
       "         [ 0.2291, -0.0652, -2.4341,  ..., -0.5390, -0.3496, -0.4730],\n",
       "         [ 0.4885, -0.4020,  1.4327,  ..., -0.2818, -0.6909, -0.8620],\n",
       "         ...,\n",
       "         [-1.1192,  0.2129, -1.0304,  ...,  1.5235, -1.0064,  0.3443],\n",
       "         [ 0.2291, -0.0652, -2.4341,  ..., -0.5390, -0.3496, -0.4730],\n",
       "         [ 0.2291, -0.0652, -2.4341,  ..., -0.5390, -0.3496, -0.4730]],\n",
       "        grad_fn=<EmbeddingBackward0>),\n",
       " tensor([[-1.1752, -1.1975, -1.2106],\n",
       "         [-1.1752, -1.1975, -1.2106],\n",
       "         [-1.1752, -1.1975, -1.2106],\n",
       "         ...,\n",
       "         [-1.1752, -1.1975, -1.2106],\n",
       "         [-1.1752, -1.1975, -1.2106],\n",
       "         [-1.1752, -1.1975, -1.2106]], grad_fn=<EmbeddingBackward0>),\n",
       " tensor([[-0.0012,  0.6100],\n",
       "         [-0.0012,  0.6100],\n",
       "         [-0.0950, -0.4964],\n",
       "         ...,\n",
       "         [-0.0012,  0.6100],\n",
       "         [-0.0012,  0.6100],\n",
       "         [-0.0012,  0.6100]], grad_fn=<EmbeddingBackward0>),\n",
       " tensor([[-0.8926, -1.7854,  0.6679],\n",
       "         [-0.0173,  1.1753,  0.0134],\n",
       "         [-0.8926, -1.7854,  0.6679],\n",
       "         ...,\n",
       "         [-0.8926, -1.7854,  0.6679],\n",
       "         [-0.8926, -1.7854,  0.6679],\n",
       "         [-0.8926, -1.7854,  0.6679]], grad_fn=<EmbeddingBackward0>),\n",
       " tensor([[ 0.0733, -0.5459,  0.7621,  1.4915, -2.0235],\n",
       "         [-1.8824,  0.4478, -0.4650, -1.8775, -0.6603],\n",
       "         [ 0.0733, -0.5459,  0.7621,  1.4915, -2.0235],\n",
       "         ...,\n",
       "         [ 0.0733, -0.5459,  0.7621,  1.4915, -2.0235],\n",
       "         [ 0.0829,  1.5257, -0.8546,  0.0950,  0.5160],\n",
       "         [ 0.0829,  1.5257, -0.8546,  0.0950,  0.5160]],\n",
       "        grad_fn=<EmbeddingBackward0>),\n",
       " tensor([[ 5.0328e-01, -1.2872e+00, -9.4021e-01,  9.4488e-01],\n",
       "         [ 2.1257e-04, -6.7324e-01,  6.6461e-01,  1.1334e+00],\n",
       "         [ 5.0328e-01, -1.2872e+00, -9.4021e-01,  9.4488e-01],\n",
       "         ...,\n",
       "         [-3.4301e-01,  1.2878e+00, -2.4468e-01,  7.1584e-01],\n",
       "         [-3.3161e-01,  2.8656e+00, -5.3150e-01, -8.7184e-01],\n",
       "         [-3.3161e-01,  2.8656e+00, -5.3150e-01, -8.7184e-01]],\n",
       "        grad_fn=<EmbeddingBackward0>)]"
      ]
     },
     "execution_count": 21,
     "metadata": {},
     "output_type": "execute_result"
    }
   ],
   "source": [
    "pd.set_option('display.max_rows', 500)\n",
    "embedding_val=[]\n",
    "for i,e in enumerate(embed_representation):\n",
    "    embedding_val.append(e(cat_feature[:,i]))\n",
    "embedding_val"
   ]
  },
  {
   "cell_type": "code",
   "execution_count": 22,
   "id": "1cd6428c-ffaf-4fea-80e7-187bc2b82960",
   "metadata": {},
   "outputs": [
    {
     "data": {
      "text/plain": [
       "tensor([[ 0.4885, -0.4020,  1.4327,  ..., -1.2872, -0.9402,  0.9449],\n",
       "        [ 0.2291, -0.0652, -2.4341,  ..., -0.6732,  0.6646,  1.1334],\n",
       "        [ 0.4885, -0.4020,  1.4327,  ..., -1.2872, -0.9402,  0.9449],\n",
       "        ...,\n",
       "        [-1.1192,  0.2129, -1.0304,  ...,  1.2878, -0.2447,  0.7158],\n",
       "        [ 0.2291, -0.0652, -2.4341,  ...,  2.8656, -0.5315, -0.8718],\n",
       "        [ 0.2291, -0.0652, -2.4341,  ...,  2.8656, -0.5315, -0.8718]],\n",
       "       grad_fn=<CatBackward0>)"
      ]
     },
     "execution_count": 22,
     "metadata": {},
     "output_type": "execute_result"
    }
   ],
   "source": [
    "z=torch.cat(embedding_val,1)\n",
    "z"
   ]
  },
  {
   "cell_type": "markdown",
   "id": "372092f6-524d-4d8b-870d-be221cf1d2be",
   "metadata": {},
   "source": [
    "stack vs cat\n",
    "stack is use with respect values of array but cat is use in embediing  \n",
    "which is itself of fucation of torch  but working is same"
   ]
  },
  {
   "cell_type": "code",
   "execution_count": 23,
   "id": "568b2e57-0e46-42f8-81b5-03f1d59b0af4",
   "metadata": {},
   "outputs": [],
   "source": [
    "dropout=nn.Dropout(.4)\n"
   ]
  },
  {
   "cell_type": "code",
   "execution_count": 24,
   "id": "eca83c18-3aa4-47d2-9641-5e41db5be2fe",
   "metadata": {},
   "outputs": [
    {
     "data": {
      "text/plain": [
       "tensor([[ 0.0000, -0.0000,  2.3878,  ..., -2.1453, -1.5670,  0.0000],\n",
       "        [ 0.3818, -0.0000, -4.0568,  ..., -1.1221,  0.0000,  1.8890],\n",
       "        [ 0.8141, -0.0000,  0.0000,  ..., -0.0000, -1.5670,  1.5748],\n",
       "        ...,\n",
       "        [-1.8653,  0.0000, -0.0000,  ...,  0.0000, -0.0000,  0.0000],\n",
       "        [ 0.3818, -0.1086, -0.0000,  ...,  4.7761, -0.0000, -1.4531],\n",
       "        [ 0.3818, -0.1086, -4.0568,  ...,  4.7761, -0.0000, -1.4531]],\n",
       "       grad_fn=<MulBackward0>)"
      ]
     },
     "execution_count": 24,
     "metadata": {},
     "output_type": "execute_result"
    }
   ],
   "source": [
    "final_embed=dropout(z)      # lot of value is 0 because of dropout\n",
    "final_embed"
   ]
  },
  {
   "cell_type": "code",
   "execution_count": 25,
   "id": "9a7ed64f-a869-4a67-9d1c-dc895f29ed0a",
   "metadata": {},
   "outputs": [
    {
     "data": {
      "text/plain": [
       "tensor([ 0.0000e+00, -0.0000e+00,  2.3878e+00, -3.7810e+00,  1.2468e+00,\n",
       "        -4.6965e-01, -0.0000e+00, -1.4366e+00, -0.0000e+00, -0.0000e+00,\n",
       "        -2.0176e+00, -2.0784e-03,  0.0000e+00, -0.0000e+00, -2.9757e+00,\n",
       "         1.1132e+00,  1.2213e-01, -9.0976e-01,  0.0000e+00,  2.4858e+00,\n",
       "        -3.3725e+00,  0.0000e+00, -2.1453e+00, -1.5670e+00,  0.0000e+00],\n",
       "       grad_fn=<SelectBackward0>)"
      ]
     },
     "execution_count": 25,
     "metadata": {},
     "output_type": "execute_result"
    }
   ],
   "source": [
    "final_embed[0]"
   ]
  },
  {
   "cell_type": "code",
   "execution_count": 26,
   "id": "626db770-df0b-4c45-b8de-5b838615390a",
   "metadata": {},
   "outputs": [],
   "source": [
    "# create a feed forward neural network\n",
    "class FeedForwardNN(nn.Module):\n",
    "    def __init__(self,embedding_dim,n_cont,layers,out_sz,p=0.5):\n",
    "        super().__init__()\n",
    "        self.embeds=nn.ModuleList(\n",
    "            [nn.Embedding(inp,out) for inp,out in embedding_dim]\n",
    "        )\n",
    "        self.emb_drop=nn.Dropout(p)\n",
    "        self.bn_cont=nn.BatchNorm1d(n_cont)\n",
    "        layerList=[]\n",
    "        n_emb=sum((out for inp,out in embedding_dim))\n",
    "        n_in=n_emb+n_cont\n",
    "\n",
    "        for i in layers:\n",
    "            layerList.append(nn.Linear(n_in,i))\n",
    "            layerList.append(nn.ReLU(inplace=True))\n",
    "            layerList.append(nn.BatchNorm1d(i))\n",
    "            layerList.append(nn.Dropout(p))\n",
    "            n_in=i\n",
    "        layerList.append(nn.Linear(layers[-1],out_sz))\n",
    "        self.layers=nn.Sequential(*layerList)\n",
    "        \n",
    "    def forward(self,x_cat,x_cont):\n",
    "        embedding=[]\n",
    "        for i,e in enumerate(self.embeds):\n",
    "            embedding.append(e(x_cat[:,i]))\n",
    "        x=torch.cat(embedding,axis=1)\n",
    "        x=self.emb_drop(x)\n",
    "\n",
    "        x_cont=self.bn_cont(x_cont)\n",
    "        x=torch.cat([x,x_cont],1)\n",
    "        x=self.layers(x)\n",
    "        return x\n",
    "        "
   ]
  },
  {
   "cell_type": "code",
   "execution_count": 27,
   "id": "db9f8d31-7663-49bf-b4ac-033d9933b986",
   "metadata": {},
   "outputs": [],
   "source": [
    "torch.manual_seed(100)\n",
    "model=FeedForwardNN(embedding_dim,len(continuous_feature),[100,50],1,p=0.4)"
   ]
  },
  {
   "cell_type": "code",
   "execution_count": 28,
   "id": "6a257c11-5e51-4055-ac81-d2d3e0969139",
   "metadata": {},
   "outputs": [
    {
     "data": {
      "text/plain": [
       "FeedForwardNN(\n",
       "  (embeds): ModuleList(\n",
       "    (0): Embedding(15, 8)\n",
       "    (1): Embedding(5, 3)\n",
       "    (2): Embedding(4, 2)\n",
       "    (3): Embedding(5, 3)\n",
       "    (4): Embedding(10, 5)\n",
       "    (5): Embedding(8, 4)\n",
       "  )\n",
       "  (emb_drop): Dropout(p=0.4, inplace=False)\n",
       "  (bn_cont): BatchNorm1d(5, eps=1e-05, momentum=0.1, affine=True, track_running_stats=True)\n",
       "  (layers): Sequential(\n",
       "    (0): Linear(in_features=30, out_features=100, bias=True)\n",
       "    (1): ReLU(inplace=True)\n",
       "    (2): BatchNorm1d(100, eps=1e-05, momentum=0.1, affine=True, track_running_stats=True)\n",
       "    (3): Dropout(p=0.4, inplace=False)\n",
       "    (4): Linear(in_features=100, out_features=50, bias=True)\n",
       "    (5): ReLU(inplace=True)\n",
       "    (6): BatchNorm1d(50, eps=1e-05, momentum=0.1, affine=True, track_running_stats=True)\n",
       "    (7): Dropout(p=0.4, inplace=False)\n",
       "    (8): Linear(in_features=50, out_features=1, bias=True)\n",
       "  )\n",
       ")"
      ]
     },
     "execution_count": 28,
     "metadata": {},
     "output_type": "execute_result"
    }
   ],
   "source": [
    "model"
   ]
  },
  {
   "cell_type": "code",
   "execution_count": 29,
   "id": "47243564-0831-47d8-93e2-80b38b87b4c9",
   "metadata": {},
   "outputs": [],
   "source": [
    "loss_funcation=nn.MSELoss()\n",
    "optimizer=torch.optim.Adam(model.parameters(), lr=0.01)"
   ]
  },
  {
   "cell_type": "code",
   "execution_count": 30,
   "id": "4d3293c8-7c65-475f-a21f-914eebdef7d4",
   "metadata": {},
   "outputs": [],
   "source": [
    "# Train test split\n",
    "batch_size=1200\n",
    "test_size=int(batch_size*0.15)  #15 %\n",
    "train_catg=cat_feature[:batch_size-test_size]\n",
    "test_catg=cat_feature[batch_size-test_size:batch_size]\n",
    "train_cont=continous_val[:batch_size-test_size]\n",
    "test_cont=continous_val[batch_size-test_size:batch_size]\n",
    "y_train=y[:batch_size-test_size]\n",
    "y_test=y[batch_size-test_size:batch_size]"
   ]
  },
  {
   "cell_type": "code",
   "execution_count": 31,
   "id": "eb64d7d0-8485-42b7-9214-474bc8936192",
   "metadata": {},
   "outputs": [
    {
     "data": {
      "text/plain": [
       "(torch.Size([1020, 6]),\n",
       " torch.Size([180, 6]),\n",
       " torch.Size([1020, 5]),\n",
       " torch.Size([180, 5]),\n",
       " torch.Size([1020]),\n",
       " torch.Size([180]))"
      ]
     },
     "execution_count": 31,
     "metadata": {},
     "output_type": "execute_result"
    }
   ],
   "source": [
    "train_catg.shape,test_catg.shape,train_cont.shape,test_cont.shape,y_train.shape,y_test.shape"
   ]
  },
  {
   "cell_type": "code",
   "execution_count": 32,
   "id": "9c3e6e39-add9-4d01-b8a9-c34962a441d8",
   "metadata": {},
   "outputs": [
    {
     "name": "stderr",
     "output_type": "stream",
     "text": [
      "D:\\software\\Lib\\site-packages\\torch\\nn\\modules\\loss.py:610: UserWarning: Using a target size (torch.Size([1020])) that is different to the input size (torch.Size([1020, 1])). This will likely lead to incorrect results due to broadcasting. Please ensure they have the same size.\n",
      "  return F.mse_loss(input, target, reduction=self.reduction)\n"
     ]
    },
    {
     "name": "stdout",
     "output_type": "stream",
     "text": [
      "Epoch Number: 1 and the loss : 200496.625\n",
      "Epoch Number: 11 and the loss : 200496.609375\n",
      "Epoch Number: 21 and the loss : 200496.53125\n",
      "Epoch Number: 31 and the loss : 200496.484375\n",
      "Epoch Number: 41 and the loss : 200496.453125\n",
      "Epoch Number: 51 and the loss : 200496.390625\n",
      "Epoch Number: 61 and the loss : 200496.328125\n",
      "Epoch Number: 71 and the loss : 200496.25\n",
      "Epoch Number: 81 and the loss : 200496.15625\n",
      "Epoch Number: 91 and the loss : 200496.09375\n",
      "Epoch Number: 101 and the loss : 200495.953125\n",
      "Epoch Number: 111 and the loss : 200495.859375\n",
      "Epoch Number: 121 and the loss : 200495.6875\n",
      "Epoch Number: 131 and the loss : 200495.640625\n",
      "Epoch Number: 141 and the loss : 200495.4375\n",
      "Epoch Number: 151 and the loss : 200495.25\n",
      "Epoch Number: 161 and the loss : 200495.125\n",
      "Epoch Number: 171 and the loss : 200494.859375\n",
      "Epoch Number: 181 and the loss : 200494.65625\n",
      "Epoch Number: 191 and the loss : 200494.5\n",
      "Epoch Number: 201 and the loss : 200494.328125\n",
      "Epoch Number: 211 and the loss : 200494.015625\n",
      "Epoch Number: 221 and the loss : 200493.734375\n",
      "Epoch Number: 231 and the loss : 200493.484375\n",
      "Epoch Number: 241 and the loss : 200493.140625\n",
      "Epoch Number: 251 and the loss : 200492.90625\n",
      "Epoch Number: 261 and the loss : 200492.53125\n",
      "Epoch Number: 271 and the loss : 200492.21875\n",
      "Epoch Number: 281 and the loss : 200491.75\n",
      "Epoch Number: 291 and the loss : 200491.484375\n",
      "Epoch Number: 301 and the loss : 200491.171875\n",
      "Epoch Number: 311 and the loss : 200490.703125\n",
      "Epoch Number: 321 and the loss : 200490.140625\n",
      "Epoch Number: 331 and the loss : 200489.734375\n",
      "Epoch Number: 341 and the loss : 200489.34375\n",
      "Epoch Number: 351 and the loss : 200488.921875\n",
      "Epoch Number: 361 and the loss : 200488.515625\n",
      "Epoch Number: 371 and the loss : 200487.8125\n",
      "Epoch Number: 381 and the loss : 200487.390625\n",
      "Epoch Number: 391 and the loss : 200486.75\n",
      "Epoch Number: 401 and the loss : 200486.109375\n",
      "Epoch Number: 411 and the loss : 200485.53125\n",
      "Epoch Number: 421 and the loss : 200485.03125\n",
      "Epoch Number: 431 and the loss : 200484.359375\n",
      "Epoch Number: 441 and the loss : 200483.71875\n",
      "Epoch Number: 451 and the loss : 200482.828125\n",
      "Epoch Number: 461 and the loss : 200482.28125\n",
      "Epoch Number: 471 and the loss : 200481.609375\n",
      "Epoch Number: 481 and the loss : 200480.984375\n",
      "Epoch Number: 491 and the loss : 200480.1875\n",
      "Epoch Number: 501 and the loss : 200479.296875\n",
      "Epoch Number: 511 and the loss : 200478.828125\n",
      "Epoch Number: 521 and the loss : 200477.546875\n",
      "Epoch Number: 531 and the loss : 200476.765625\n",
      "Epoch Number: 541 and the loss : 200475.71875\n",
      "Epoch Number: 551 and the loss : 200474.953125\n",
      "Epoch Number: 561 and the loss : 200474.421875\n",
      "Epoch Number: 571 and the loss : 200473.28125\n",
      "Epoch Number: 581 and the loss : 200472.296875\n",
      "Epoch Number: 591 and the loss : 200471.296875\n",
      "Epoch Number: 601 and the loss : 200470.109375\n",
      "Epoch Number: 611 and the loss : 200469.125\n",
      "Epoch Number: 621 and the loss : 200468.21875\n",
      "Epoch Number: 631 and the loss : 200467.03125\n",
      "Epoch Number: 641 and the loss : 200466.0625\n",
      "Epoch Number: 651 and the loss : 200465.171875\n",
      "Epoch Number: 661 and the loss : 200463.578125\n",
      "Epoch Number: 671 and the loss : 200462.28125\n",
      "Epoch Number: 681 and the loss : 200461.046875\n",
      "Epoch Number: 691 and the loss : 200460.09375\n",
      "Epoch Number: 701 and the loss : 200458.890625\n",
      "Epoch Number: 711 and the loss : 200457.765625\n",
      "Epoch Number: 721 and the loss : 200456.421875\n",
      "Epoch Number: 731 and the loss : 200455.078125\n",
      "Epoch Number: 741 and the loss : 200453.375\n",
      "Epoch Number: 751 and the loss : 200452.359375\n",
      "Epoch Number: 761 and the loss : 200450.921875\n",
      "Epoch Number: 771 and the loss : 200449.125\n",
      "Epoch Number: 781 and the loss : 200447.859375\n",
      "Epoch Number: 791 and the loss : 200446.4375\n",
      "Epoch Number: 801 and the loss : 200444.78125\n",
      "Epoch Number: 811 and the loss : 200442.859375\n",
      "Epoch Number: 821 and the loss : 200441.828125\n",
      "Epoch Number: 831 and the loss : 200440.265625\n",
      "Epoch Number: 841 and the loss : 200438.5\n",
      "Epoch Number: 851 and the loss : 200436.875\n",
      "Epoch Number: 861 and the loss : 200435.375\n",
      "Epoch Number: 871 and the loss : 200433.296875\n",
      "Epoch Number: 881 and the loss : 200432.234375\n",
      "Epoch Number: 891 and the loss : 200429.8125\n",
      "Epoch Number: 901 and the loss : 200428.140625\n",
      "Epoch Number: 911 and the loss : 200426.90625\n",
      "Epoch Number: 921 and the loss : 200425.3125\n",
      "Epoch Number: 931 and the loss : 200423.03125\n",
      "Epoch Number: 941 and the loss : 200421.421875\n",
      "Epoch Number: 951 and the loss : 200419.1875\n",
      "Epoch Number: 961 and the loss : 200417.375\n",
      "Epoch Number: 971 and the loss : 200415.703125\n",
      "Epoch Number: 981 and the loss : 200413.421875\n",
      "Epoch Number: 991 and the loss : 200411.34375\n",
      "Epoch Number: 1001 and the loss : 200409.84375\n",
      "Epoch Number: 1011 and the loss : 200407.453125\n",
      "Epoch Number: 1021 and the loss : 200405.53125\n",
      "Epoch Number: 1031 and the loss : 200402.765625\n",
      "Epoch Number: 1041 and the loss : 200401.453125\n",
      "Epoch Number: 1051 and the loss : 200398.9375\n",
      "Epoch Number: 1061 and the loss : 200396.734375\n",
      "Epoch Number: 1071 and the loss : 200395.375\n",
      "Epoch Number: 1081 and the loss : 200392.65625\n",
      "Epoch Number: 1091 and the loss : 200390.09375\n",
      "Epoch Number: 1101 and the loss : 200387.75\n",
      "Epoch Number: 1111 and the loss : 200385.484375\n",
      "Epoch Number: 1121 and the loss : 200382.734375\n",
      "Epoch Number: 1131 and the loss : 200381.0\n",
      "Epoch Number: 1141 and the loss : 200378.859375\n",
      "Epoch Number: 1151 and the loss : 200375.859375\n",
      "Epoch Number: 1161 and the loss : 200373.53125\n",
      "Epoch Number: 1171 and the loss : 200372.34375\n",
      "Epoch Number: 1181 and the loss : 200368.828125\n",
      "Epoch Number: 1191 and the loss : 200366.109375\n",
      "Epoch Number: 1201 and the loss : 200363.171875\n",
      "Epoch Number: 1211 and the loss : 200361.859375\n",
      "Epoch Number: 1221 and the loss : 200359.328125\n",
      "Epoch Number: 1231 and the loss : 200355.984375\n",
      "Epoch Number: 1241 and the loss : 200354.109375\n",
      "Epoch Number: 1251 and the loss : 200351.53125\n",
      "Epoch Number: 1261 and the loss : 200347.1875\n",
      "Epoch Number: 1271 and the loss : 200344.890625\n",
      "Epoch Number: 1281 and the loss : 200342.625\n",
      "Epoch Number: 1291 and the loss : 200339.484375\n",
      "Epoch Number: 1301 and the loss : 200336.703125\n",
      "Epoch Number: 1311 and the loss : 200334.765625\n",
      "Epoch Number: 1321 and the loss : 200332.53125\n",
      "Epoch Number: 1331 and the loss : 200328.828125\n",
      "Epoch Number: 1341 and the loss : 200324.953125\n",
      "Epoch Number: 1351 and the loss : 200323.609375\n",
      "Epoch Number: 1361 and the loss : 200320.046875\n",
      "Epoch Number: 1371 and the loss : 200318.359375\n",
      "Epoch Number: 1381 and the loss : 200313.796875\n",
      "Epoch Number: 1391 and the loss : 200309.6875\n",
      "Epoch Number: 1401 and the loss : 200308.9375\n",
      "Epoch Number: 1411 and the loss : 200304.015625\n",
      "Epoch Number: 1421 and the loss : 200301.421875\n",
      "Epoch Number: 1431 and the loss : 200298.8125\n",
      "Epoch Number: 1441 and the loss : 200295.265625\n",
      "Epoch Number: 1451 and the loss : 200293.296875\n",
      "Epoch Number: 1461 and the loss : 200289.796875\n",
      "Epoch Number: 1471 and the loss : 200284.671875\n",
      "Epoch Number: 1481 and the loss : 200283.5\n",
      "Epoch Number: 1491 and the loss : 200280.375\n",
      "Epoch Number: 1501 and the loss : 200276.40625\n",
      "Epoch Number: 1511 and the loss : 200274.171875\n",
      "Epoch Number: 1521 and the loss : 200269.421875\n",
      "Epoch Number: 1531 and the loss : 200265.859375\n",
      "Epoch Number: 1541 and the loss : 200264.15625\n",
      "Epoch Number: 1551 and the loss : 200260.046875\n",
      "Epoch Number: 1561 and the loss : 200255.140625\n",
      "Epoch Number: 1571 and the loss : 200252.109375\n",
      "Epoch Number: 1581 and the loss : 200249.515625\n",
      "Epoch Number: 1591 and the loss : 200245.328125\n",
      "Epoch Number: 1601 and the loss : 200242.09375\n",
      "Epoch Number: 1611 and the loss : 200238.734375\n",
      "Epoch Number: 1621 and the loss : 200234.734375\n",
      "Epoch Number: 1631 and the loss : 200231.734375\n",
      "Epoch Number: 1641 and the loss : 200226.828125\n",
      "Epoch Number: 1651 and the loss : 200222.421875\n",
      "Epoch Number: 1661 and the loss : 200219.40625\n",
      "Epoch Number: 1671 and the loss : 200216.671875\n",
      "Epoch Number: 1681 and the loss : 200213.078125\n",
      "Epoch Number: 1691 and the loss : 200209.421875\n",
      "Epoch Number: 1701 and the loss : 200204.84375\n",
      "Epoch Number: 1711 and the loss : 200201.1875\n",
      "Epoch Number: 1721 and the loss : 200196.984375\n",
      "Epoch Number: 1731 and the loss : 200191.78125\n",
      "Epoch Number: 1741 and the loss : 200191.3125\n",
      "Epoch Number: 1751 and the loss : 200185.125\n",
      "Epoch Number: 1761 and the loss : 200181.578125\n",
      "Epoch Number: 1771 and the loss : 200178.9375\n",
      "Epoch Number: 1781 and the loss : 200173.40625\n",
      "Epoch Number: 1791 and the loss : 200168.3125\n",
      "Epoch Number: 1801 and the loss : 200165.140625\n",
      "Epoch Number: 1811 and the loss : 200163.5\n",
      "Epoch Number: 1821 and the loss : 200157.140625\n",
      "Epoch Number: 1831 and the loss : 200153.734375\n",
      "Epoch Number: 1841 and the loss : 200147.421875\n",
      "Epoch Number: 1851 and the loss : 200145.671875\n",
      "Epoch Number: 1861 and the loss : 200143.359375\n",
      "Epoch Number: 1871 and the loss : 200137.046875\n",
      "Epoch Number: 1881 and the loss : 200131.890625\n",
      "Epoch Number: 1891 and the loss : 200128.75\n",
      "Epoch Number: 1901 and the loss : 200122.359375\n",
      "Epoch Number: 1911 and the loss : 200120.359375\n",
      "Epoch Number: 1921 and the loss : 200113.625\n",
      "Epoch Number: 1931 and the loss : 200109.703125\n",
      "Epoch Number: 1941 and the loss : 200107.09375\n",
      "Epoch Number: 1951 and the loss : 200103.421875\n",
      "Epoch Number: 1961 and the loss : 200098.78125\n",
      "Epoch Number: 1971 and the loss : 200094.734375\n",
      "Epoch Number: 1981 and the loss : 200088.03125\n",
      "Epoch Number: 1991 and the loss : 200081.0625\n",
      "Epoch Number: 2001 and the loss : 200078.078125\n",
      "Epoch Number: 2011 and the loss : 200075.703125\n",
      "Epoch Number: 2021 and the loss : 200068.71875\n",
      "Epoch Number: 2031 and the loss : 200065.984375\n",
      "Epoch Number: 2041 and the loss : 200058.953125\n",
      "Epoch Number: 2051 and the loss : 200056.828125\n",
      "Epoch Number: 2061 and the loss : 200052.28125\n",
      "Epoch Number: 2071 and the loss : 200048.796875\n",
      "Epoch Number: 2081 and the loss : 200043.40625\n",
      "Epoch Number: 2091 and the loss : 200036.296875\n",
      "Epoch Number: 2101 and the loss : 200030.796875\n",
      "Epoch Number: 2111 and the loss : 200028.578125\n",
      "Epoch Number: 2121 and the loss : 200024.015625\n",
      "Epoch Number: 2131 and the loss : 200018.75\n",
      "Epoch Number: 2141 and the loss : 200011.8125\n",
      "Epoch Number: 2151 and the loss : 200007.25\n",
      "Epoch Number: 2161 and the loss : 200000.484375\n",
      "Epoch Number: 2171 and the loss : 200000.734375\n",
      "Epoch Number: 2181 and the loss : 199993.828125\n",
      "Epoch Number: 2191 and the loss : 199985.109375\n",
      "Epoch Number: 2201 and the loss : 199983.46875\n",
      "Epoch Number: 2211 and the loss : 199976.765625\n",
      "Epoch Number: 2221 and the loss : 199973.921875\n",
      "Epoch Number: 2231 and the loss : 199969.984375\n",
      "Epoch Number: 2241 and the loss : 199964.265625\n",
      "Epoch Number: 2251 and the loss : 199953.84375\n",
      "Epoch Number: 2261 and the loss : 199954.046875\n",
      "Epoch Number: 2271 and the loss : 199948.9375\n",
      "Epoch Number: 2281 and the loss : 199944.140625\n",
      "Epoch Number: 2291 and the loss : 199939.234375\n",
      "Epoch Number: 2301 and the loss : 199931.0625\n",
      "Epoch Number: 2311 and the loss : 199924.453125\n",
      "Epoch Number: 2321 and the loss : 199921.125\n",
      "Epoch Number: 2331 and the loss : 199913.15625\n",
      "Epoch Number: 2341 and the loss : 199911.75\n",
      "Epoch Number: 2351 and the loss : 199906.59375\n",
      "Epoch Number: 2361 and the loss : 199900.09375\n",
      "Epoch Number: 2371 and the loss : 199887.359375\n",
      "Epoch Number: 2381 and the loss : 199883.9375\n",
      "Epoch Number: 2391 and the loss : 199883.71875\n",
      "Epoch Number: 2401 and the loss : 199876.703125\n",
      "Epoch Number: 2411 and the loss : 199871.765625\n",
      "Epoch Number: 2421 and the loss : 199866.90625\n",
      "Epoch Number: 2431 and the loss : 199853.75\n",
      "Epoch Number: 2441 and the loss : 199851.421875\n",
      "Epoch Number: 2451 and the loss : 199844.890625\n",
      "Epoch Number: 2461 and the loss : 199843.734375\n",
      "Epoch Number: 2471 and the loss : 199834.75\n",
      "Epoch Number: 2481 and the loss : 199831.40625\n",
      "Epoch Number: 2491 and the loss : 199826.59375\n",
      "Epoch Number: 2501 and the loss : 199822.53125\n",
      "Epoch Number: 2511 and the loss : 199809.875\n",
      "Epoch Number: 2521 and the loss : 199809.59375\n",
      "Epoch Number: 2531 and the loss : 199798.875\n",
      "Epoch Number: 2541 and the loss : 199791.34375\n",
      "Epoch Number: 2551 and the loss : 199796.25\n",
      "Epoch Number: 2561 and the loss : 199780.6875\n",
      "Epoch Number: 2571 and the loss : 199781.53125\n",
      "Epoch Number: 2581 and the loss : 199764.359375\n",
      "Epoch Number: 2591 and the loss : 199766.109375\n",
      "Epoch Number: 2601 and the loss : 199757.828125\n",
      "Epoch Number: 2611 and the loss : 199756.484375\n",
      "Epoch Number: 2621 and the loss : 199741.140625\n",
      "Epoch Number: 2631 and the loss : 199743.03125\n",
      "Epoch Number: 2641 and the loss : 199733.453125\n",
      "Epoch Number: 2651 and the loss : 199725.796875\n",
      "Epoch Number: 2661 and the loss : 199727.421875\n",
      "Epoch Number: 2671 and the loss : 199714.328125\n",
      "Epoch Number: 2681 and the loss : 199712.171875\n",
      "Epoch Number: 2691 and the loss : 199702.453125\n",
      "Epoch Number: 2701 and the loss : 199698.734375\n",
      "Epoch Number: 2711 and the loss : 199692.015625\n",
      "Epoch Number: 2721 and the loss : 199684.5625\n",
      "Epoch Number: 2731 and the loss : 199677.734375\n",
      "Epoch Number: 2741 and the loss : 199672.640625\n",
      "Epoch Number: 2751 and the loss : 199671.953125\n",
      "Epoch Number: 2761 and the loss : 199662.703125\n",
      "Epoch Number: 2771 and the loss : 199649.953125\n",
      "Epoch Number: 2781 and the loss : 199651.4375\n",
      "Epoch Number: 2791 and the loss : 199639.578125\n",
      "Epoch Number: 2801 and the loss : 199634.0\n",
      "Epoch Number: 2811 and the loss : 199630.578125\n",
      "Epoch Number: 2821 and the loss : 199623.8125\n",
      "Epoch Number: 2831 and the loss : 199614.09375\n",
      "Epoch Number: 2841 and the loss : 199605.59375\n",
      "Epoch Number: 2851 and the loss : 199599.828125\n",
      "Epoch Number: 2861 and the loss : 199595.90625\n",
      "Epoch Number: 2871 and the loss : 199585.4375\n",
      "Epoch Number: 2881 and the loss : 199578.4375\n",
      "Epoch Number: 2891 and the loss : 199572.796875\n",
      "Epoch Number: 2901 and the loss : 199562.96875\n",
      "Epoch Number: 2911 and the loss : 199557.453125\n",
      "Epoch Number: 2921 and the loss : 199560.390625\n",
      "Epoch Number: 2931 and the loss : 199540.1875\n",
      "Epoch Number: 2941 and the loss : 199533.375\n",
      "Epoch Number: 2951 and the loss : 199529.875\n",
      "Epoch Number: 2961 and the loss : 199525.90625\n",
      "Epoch Number: 2971 and the loss : 199514.3125\n",
      "Epoch Number: 2981 and the loss : 199503.765625\n",
      "Epoch Number: 2991 and the loss : 199502.21875\n"
     ]
    }
   ],
   "source": [
    "epochs=3000\n",
    "final_losses=[]\n",
    "for i in range(epochs):\n",
    "    i=i+1\n",
    "    y_pred=model(train_catg,train_cont)\n",
    "    loss=torch.sqrt(loss_funcation(y_pred,y_train))\n",
    "    final_losses.append(loss)\n",
    "    if i%10==1:\n",
    "        print(\"Epoch Number: {} and the loss : {}\".format(i,loss.item()))\n",
    "        optimizer.zero_grad()\n",
    "        loss.backward()\n",
    "        optimizer.step()\n",
    "                    \n",
    "    "
   ]
  },
  {
   "cell_type": "code",
   "execution_count": 33,
   "id": "0bfcfa11-5b98-4d25-8c4f-9d80c1a71baf",
   "metadata": {},
   "outputs": [
    {
     "data": {
      "text/plain": [
       "Text(0.5, 1.0, 'Training Loss Curve')"
      ]
     },
     "execution_count": 33,
     "metadata": {},
     "output_type": "execute_result"
    },
    {
     "data": {
      "image/png": "[encoded data removed]",
      "text/plain": [
       "<Figure size 640x480 with 1 Axes>"
      ]
     },
     "metadata": {},
     "output_type": "display_data"
    }
   ],
   "source": [
    "import matplotlib.pyplot as plt\n",
    "plt.plot(range(epochs), [loss.detach().cpu().numpy() for loss in final_losses])\n",
    "plt.ylabel('RMSE Loss')\n",
    "plt.xlabel('epoch')\n",
    "plt.title('Training Loss Curve')"
   ]
  },
  {
   "cell_type": "code",
   "execution_count": 34,
   "id": "fbbb9acd-510e-4088-8a27-3d348f735783",
   "metadata": {},
   "outputs": [
    {
     "name": "stdout",
     "output_type": "stream",
     "text": [
      "RMSE: 189959.15625\n"
     ]
    },
    {
     "name": "stderr",
     "output_type": "stream",
     "text": [
      "D:\\software\\Lib\\site-packages\\torch\\nn\\modules\\loss.py:610: UserWarning: Using a target size (torch.Size([180])) that is different to the input size (torch.Size([180, 1])). This will likely lead to incorrect results due to broadcasting. Please ensure they have the same size.\n",
      "  return F.mse_loss(input, target, reduction=self.reduction)\n"
     ]
    }
   ],
   "source": [
    "y_pred=\"\"\n",
    "with torch.no_grad():\n",
    "    y_pred=model(test_catg,test_cont)\n",
    "    loss=torch.sqrt(loss_funcation(y_pred,y_test))\n",
    "print('RMSE: {}'.format(loss))\n",
    "    "
   ]
  },
  {
   "cell_type": "code",
   "execution_count": 35,
   "id": "0f16e893-9669-4141-b96c-93149de8e9cd",
   "metadata": {},
   "outputs": [],
   "source": [
    "data_verify=pd.DataFrame(y_test.tolist(),columns=['Test'])\n",
    "data_predicted=pd.DataFrame(y_pred.tolist(),columns=['Prediction'])"
   ]
  },
  {
   "cell_type": "code",
   "execution_count": 36,
   "id": "697af36c-4120-41b1-ae53-0e07e16ee8ee",
   "metadata": {},
   "outputs": [
    {
     "data": {
      "text/html": [
       "<div>\n",
       "<style scoped>\n",
       "    .dataframe tbody tr th:only-of-type {\n",
       "        vertical-align: middle;\n",
       "    }\n",
       "\n",
       "    .dataframe tbody tr th {\n",
       "        vertical-align: top;\n",
       "    }\n",
       "\n",
       "    .dataframe thead th {\n",
       "        text-align: right;\n",
       "    }\n",
       "</style>\n",
       "<table border=\"1\" class=\"dataframe\">\n",
       "  <thead>\n",
       "    <tr style=\"text-align: right;\">\n",
       "      <th></th>\n",
       "      <th>Test</th>\n",
       "      <th>Prediction</th>\n",
       "      <th>Diffrence</th>\n",
       "    </tr>\n",
       "  </thead>\n",
       "  <tbody>\n",
       "    <tr>\n",
       "      <th>0</th>\n",
       "      <td>130000.0</td>\n",
       "      <td>1029.289917</td>\n",
       "      <td>128970.710083</td>\n",
       "    </tr>\n",
       "    <tr>\n",
       "      <th>1</th>\n",
       "      <td>138887.0</td>\n",
       "      <td>1164.394287</td>\n",
       "      <td>137722.605713</td>\n",
       "    </tr>\n",
       "    <tr>\n",
       "      <th>2</th>\n",
       "      <td>175500.0</td>\n",
       "      <td>1106.706177</td>\n",
       "      <td>174393.293823</td>\n",
       "    </tr>\n",
       "    <tr>\n",
       "      <th>3</th>\n",
       "      <td>195000.0</td>\n",
       "      <td>1079.853882</td>\n",
       "      <td>193920.146118</td>\n",
       "    </tr>\n",
       "    <tr>\n",
       "      <th>4</th>\n",
       "      <td>142500.0</td>\n",
       "      <td>1017.256897</td>\n",
       "      <td>141482.743103</td>\n",
       "    </tr>\n",
       "  </tbody>\n",
       "</table>\n",
       "</div>"
      ],
      "text/plain": [
       "       Test   Prediction      Diffrence\n",
       "0  130000.0  1029.289917  128970.710083\n",
       "1  138887.0  1164.394287  137722.605713\n",
       "2  175500.0  1106.706177  174393.293823\n",
       "3  195000.0  1079.853882  193920.146118\n",
       "4  142500.0  1017.256897  141482.743103"
      ]
     },
     "execution_count": 36,
     "metadata": {},
     "output_type": "execute_result"
    }
   ],
   "source": [
    "final_output=pd.concat([data_verify,data_predicted],axis=1)\n",
    "final_output['Diffrence']=final_output['Test']-final_output['Prediction']\n",
    "final_output.head(5)"
   ]
  },
  {
   "cell_type": "code",
   "execution_count": 37,
   "id": "08ceb78c-d3db-495b-b8ae-67e0315689cb",
   "metadata": {},
   "outputs": [],
   "source": [
    "#saving the model \n",
    "torch.save(model,'HousePrice.pt')  ## Saves the entire model (architecture + weights)\n"
   ]
  },
  {
   "cell_type": "code",
   "execution_count": 40,
   "id": "380d2a39-6797-4d33-ad74-a034a406c79f",
   "metadata": {},
   "outputs": [],
   "source": [
    "torch.save(model.state_dict(),'HouseWeights.pt')   # Saves only the model weights"
   ]
  },
  {
   "cell_type": "code",
   "execution_count": 41,
   "id": "9cbf7cac-4bbb-441b-99d3-f9abfdcc492c",
   "metadata": {},
   "outputs": [],
   "source": [
    "embs_size=[(15, 8), (5, 3), (4, 2), (5, 3), (10, 5), (8, 4)]\n",
    "model1 = FeedForwardNN(embs_size, 5, [100, 50], 1, p=0.4)\n"
   ]
  },
  {
   "cell_type": "code",
   "execution_count": 43,
   "id": "084eedd7-5a8f-4993-b1e8-f677a1413a8c",
   "metadata": {},
   "outputs": [
    {
     "data": {
      "text/plain": [
       "<All keys matched successfully>"
      ]
     },
     "execution_count": 43,
     "metadata": {},
     "output_type": "execute_result"
    }
   ],
   "source": [
    "model1.load_state_dict(torch.load('HouseWeights.pt')) # Loads only the weights into model1"
   ]
  },
  {
   "cell_type": "code",
   "execution_count": 44,
   "id": "fec93e63-3f33-4307-869d-060389ecbe10",
   "metadata": {},
   "outputs": [
    {
     "data": {
      "text/plain": [
       "FeedForwardNN(\n",
       "  (embeds): ModuleList(\n",
       "    (0): Embedding(15, 8)\n",
       "    (1): Embedding(5, 3)\n",
       "    (2): Embedding(4, 2)\n",
       "    (3): Embedding(5, 3)\n",
       "    (4): Embedding(10, 5)\n",
       "    (5): Embedding(8, 4)\n",
       "  )\n",
       "  (emb_drop): Dropout(p=0.4, inplace=False)\n",
       "  (bn_cont): BatchNorm1d(5, eps=1e-05, momentum=0.1, affine=True, track_running_stats=True)\n",
       "  (layers): Sequential(\n",
       "    (0): Linear(in_features=30, out_features=100, bias=True)\n",
       "    (1): ReLU(inplace=True)\n",
       "    (2): BatchNorm1d(100, eps=1e-05, momentum=0.1, affine=True, track_running_stats=True)\n",
       "    (3): Dropout(p=0.4, inplace=False)\n",
       "    (4): Linear(in_features=100, out_features=50, bias=True)\n",
       "    (5): ReLU(inplace=True)\n",
       "    (6): BatchNorm1d(50, eps=1e-05, momentum=0.1, affine=True, track_running_stats=True)\n",
       "    (7): Dropout(p=0.4, inplace=False)\n",
       "    (8): Linear(in_features=50, out_features=1, bias=True)\n",
       "  )\n",
       ")"
      ]
     },
     "execution_count": 44,
     "metadata": {},
     "output_type": "execute_result"
    }
   ],
   "source": [
    "model1.eval()"
   ]
  }
 ],
 "metadata": {
  "kernelspec": {
   "display_name": "Python 3 (ipykernel)",
   "language": "python",
   "name": "python3"
  },
  "language_info": {
   "codemirror_mode": {
    "name": "ipython",
    "version": 3
   },
   "file_extension": ".py",
   "mimetype": "text/x-python",
   "name": "python",
   "nbconvert_exporter": "python",
   "pygments_lexer": "ipython3",
   "version": "3.12.4"
  }
 },
 "nbformat": 4,
 "nbformat_minor": 5
}
